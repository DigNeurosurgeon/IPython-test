{
 "metadata": {
  "name": "",
  "signature": "sha256:ffe18ae8c87e6b170cbe1f70a0afd983c85c2a7312286846a2876549de2063fb"
 },
 "nbformat": 3,
 "nbformat_minor": 0,
 "worksheets": [
  {
   "cells": [
    {
     "cell_type": "code",
     "collapsed": false,
     "input": [
      "%connect_info"
     ],
     "language": "python",
     "metadata": {},
     "outputs": [
      {
       "output_type": "stream",
       "stream": "stdout",
       "text": [
        "{\n",
        "  \"stdin_port\": 56915, \n",
        "  \"ip\": \"127.0.0.1\", \n",
        "  \"control_port\": 56916, \n",
        "  \"hb_port\": 56917, \n",
        "  \"signature_scheme\": \"hmac-sha256\", \n",
        "  \"key\": \"54f553b0-d424-4ecf-83dd-c798529ab6b9\", \n",
        "  \"shell_port\": 56913, \n",
        "  \"transport\": \"tcp\", \n",
        "  \"iopub_port\": 56914\n",
        "}\n",
        "\n",
        "Paste the above JSON into a file, and connect with:\n",
        "    $> ipython <app> --existing <file>\n",
        "or, if you are local, you can connect with just:\n",
        "    $> ipython <app> --existing kernel-a5aeb718-adcb-46d4-9e04-aa9ed538e950.json \n",
        "or even just:\n",
        "    $> ipython <app> --existing \n",
        "if this is the most recent IPython session you have started.\n"
       ]
      }
     ],
     "prompt_number": 1
    },
    {
     "cell_type": "code",
     "collapsed": false,
     "input": [],
     "language": "python",
     "metadata": {},
     "outputs": []
    }
   ],
   "metadata": {}
  }
 ]
}