{
 "metadata": {
  "name": "",
  "signature": "sha256:e3bb8211d447550c10e18009dc31444e8546d8dd6ad62421ea67063a6046e06e"
 },
 "nbformat": 3,
 "nbformat_minor": 0,
 "worksheets": [
  {
   "cells": [
    {
     "cell_type": "markdown",
     "metadata": {},
     "source": [
      "# Programming for physicians 101: sample exercises\n",
      "\n",
      "This is a test document for [Surgical Neurology International](http://surgicalneurologyint.com) to demonstrate formatting options from the IPython Notebook."
     ]
    },
    {
     "cell_type": "markdown",
     "metadata": {},
     "source": [
      "Essentially programming consistst of three sorts of activity:\n",
      "* data input\n",
      "* data manipulation\n",
      "* data output\n",
      "\n",
      "Let's get started with a classical data output example. In Python, the command `print` displays text on the screen. If we type `print('Hello World')` then the computer will display \"Hello World\". "
     ]
    },
    {
     "cell_type": "code",
     "collapsed": false,
     "input": [
      "print('Hello World')"
     ],
     "language": "python",
     "metadata": {},
     "outputs": [
      {
       "output_type": "stream",
       "stream": "stdout",
       "text": [
        "Hello World\n"
       ]
      }
     ],
     "prompt_number": 1
    },
    {
     "cell_type": "markdown",
     "metadata": {},
     "source": [
      "Technically, `print` is a *function*, and a function can accept one ore more *arguments*. These arguments are added between parentheses, and if the arguments are text, they are placed between quotes. Note that single-quote or double-quote is equivalent here, so `print(\"Hello World\")` produces the same result.  "
     ]
    },
    {
     "cell_type": "code",
     "collapsed": false,
     "input": [
      "print(\"Hello World\")"
     ],
     "language": "python",
     "metadata": {},
     "outputs": [
      {
       "output_type": "stream",
       "stream": "stdout",
       "text": [
        "Hello World\n"
       ]
      }
     ],
     "prompt_number": 2
    },
    {
     "cell_type": "markdown",
     "metadata": {},
     "source": [
      "And if you like some more space between the function name and the arguments, that is fine!"
     ]
    },
    {
     "cell_type": "code",
     "collapsed": false,
     "input": [
      "print (\"Hello World\")"
     ],
     "language": "python",
     "metadata": {},
     "outputs": [
      {
       "output_type": "stream",
       "stream": "stdout",
       "text": [
        "Hello World\n"
       ]
      }
     ],
     "prompt_number": 3
    },
    {
     "cell_type": "markdown",
     "metadata": {},
     "source": [
      "Now you can also replace the function argument by a *variable* that holds the content (which is text in our case, but is could also be something else, like a number)."
     ]
    },
    {
     "cell_type": "code",
     "collapsed": false,
     "input": [
      "my_variable = 'Hello World'\n",
      "print(my_variable)"
     ],
     "language": "python",
     "metadata": {},
     "outputs": [
      {
       "output_type": "stream",
       "stream": "stdout",
       "text": [
        "Hello World\n"
       ]
      }
     ],
     "prompt_number": 4
    },
    {
     "cell_type": "markdown",
     "metadata": {},
     "source": [
      "Actually, the computer does not care how you call your variable, as long as it is a valid name. Do not start with a number, and avoid spaces or special signs. Otherwise, text, numbers and underscores are all fine. There is one catch: lowercase and uppercase are **not** equal. So `my_variable` is different from `My_Variable`."
     ]
    },
    {
     "cell_type": "code",
     "collapsed": false,
     "input": [
      "My_Variable = 'Hello Moon'\n",
      "print(my_variable)\n",
      "print(My_Variable)"
     ],
     "language": "python",
     "metadata": {},
     "outputs": [
      {
       "output_type": "stream",
       "stream": "stdout",
       "text": [
        "Hello World\n",
        "Hello Moon\n"
       ]
      }
     ],
     "prompt_number": 14
    },
    {
     "cell_type": "markdown",
     "metadata": {},
     "source": [
      "That's it for now... this demo session is over!"
     ]
    }
   ],
   "metadata": {}
  }
 ]
}