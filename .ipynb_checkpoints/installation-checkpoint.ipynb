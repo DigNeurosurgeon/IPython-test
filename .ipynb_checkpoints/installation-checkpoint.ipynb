{
 "metadata": {
  "name": "",
  "signature": "sha256:7fc7b18a76a20c5f5bc800983d56384fb28f5334913ed0eafaf49121d8dcff40"
 },
 "nbformat": 3,
 "nbformat_minor": 0,
 "worksheets": [
  {
   "cells": [
    {
     "cell_type": "markdown",
     "metadata": {},
     "source": [
      "# Installation"
     ]
    },
    {
     "cell_type": "markdown",
     "metadata": {},
     "source": [
      "Some text..."
     ]
    },
    {
     "cell_type": "markdown",
     "metadata": {},
     "source": [
      "![download screenshot]('img/00_conda_launcher.png')"
     ]
    },
    {
     "cell_type": "code",
     "collapsed": false,
     "input": [],
     "language": "python",
     "metadata": {},
     "outputs": []
    }
   ],
   "metadata": {}
  }
 ]
}