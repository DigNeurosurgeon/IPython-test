{
 "metadata": {
  "name": "",
  "signature": "sha256:ee9ddac788ba26979be6596816501a6fc6b0e65cff75e90aa68d54b4a518d88f"
 },
 "nbformat": 3,
 "nbformat_minor": 0,
 "worksheets": [
  {
   "cells": [
    {
     "cell_type": "code",
     "collapsed": false,
     "input": [
      "print \"hello world\""
     ],
     "language": "python",
     "metadata": {},
     "outputs": [
      {
       "output_type": "stream",
       "stream": "stdout",
       "text": [
        "hello world\n"
       ]
      }
     ],
     "prompt_number": 1
    },
    {
     "cell_type": "code",
     "collapsed": false,
     "input": [
      "!ls *.ipynb"
     ],
     "language": "python",
     "metadata": {},
     "outputs": [
      {
       "output_type": "stream",
       "stream": "stdout",
       "text": [
        "roussant_ch03.ipynb sandbox.ipynb\r\n"
       ]
      }
     ],
     "prompt_number": 3
    },
    {
     "cell_type": "code",
     "collapsed": false,
     "input": [
      "ls"
     ],
     "language": "python",
     "metadata": {},
     "outputs": [
      {
       "output_type": "stream",
       "stream": "stdout",
       "text": [
        "\u001b[34mAndroidStudioProjects\u001b[m\u001b[m/     \u001b[34mMovies\u001b[m\u001b[m/                    matlab_crash_dump.41428-1\r\n",
        "\u001b[34mApplications\u001b[m\u001b[m/              \u001b[34mMusic\u001b[m\u001b[m/                     matlab_crash_dump.41912-1\r\n",
        "\u001b[34mApplications (Parallels)\u001b[m\u001b[m/  \u001b[34mNetBeansProjects\u001b[m\u001b[m/          octave-workspace\r\n",
        "\u001b[34mDesktop\u001b[m\u001b[m/                   \u001b[34mPictures\u001b[m\u001b[m/                  roussant_ch03.ipynb\r\n",
        "\u001b[34mDevelopment\u001b[m\u001b[m/               \u001b[34mPublic\u001b[m\u001b[m/                    sandbox.ipynb\r\n",
        "\u001b[34mDocuments\u001b[m\u001b[m/                 \u001b[34mQt5.2.1\u001b[m\u001b[m/                   \u001b[34mtmp\u001b[m\u001b[m/\r\n",
        "\u001b[34mDownloads\u001b[m\u001b[m/                 \u001b[34mSamsung\u001b[m\u001b[m/                   \u001b[34mweka-3-6-11\u001b[m\u001b[m/\r\n",
        "\u001b[34mDropbox\u001b[m\u001b[m/                   \u001b[34mWebsites\u001b[m\u001b[m/                  weka.log\r\n",
        "\u001b[34mLibrary\u001b[m\u001b[m/                   \u001b[34minline\u001b[m\u001b[m/                    \u001b[34mwekafiles\u001b[m\u001b[m/\r\n"
       ]
      }
     ],
     "prompt_number": 5
    },
    {
     "cell_type": "code",
     "collapsed": false,
     "input": [
      "bookmark -l"
     ],
     "language": "python",
     "metadata": {},
     "outputs": [
      {
       "output_type": "stream",
       "stream": "stdout",
       "text": [
        "Current bookmarks:\n",
        "?          -> /Users/Pieter/Desktop\n",
        "citiesdata -> /Users/Pieter/Desktop/ros/facebook/data\n",
        "desk       -> /Users/Pieter/Desktop\n",
        "fbdata     -> /Users/Pieter/Desktop/ros/facebook\n",
        "ros        -> /Users/Pieter/Desktop/ros\n"
       ]
      }
     ],
     "prompt_number": 6
    },
    {
     "cell_type": "code",
     "collapsed": false,
     "input": [
      "cd desk"
     ],
     "language": "python",
     "metadata": {},
     "outputs": [
      {
       "output_type": "stream",
       "stream": "stdout",
       "text": [
        "(bookmark:desk) -> /Users/Pieter/Desktop\n",
        "/Users/Pieter/Desktop\n"
       ]
      }
     ],
     "prompt_number": 7
    },
    {
     "cell_type": "code",
     "collapsed": false,
     "input": [
      "%%writefile test.txt\n",
      "My first notebook file!"
     ],
     "language": "python",
     "metadata": {},
     "outputs": [
      {
       "output_type": "stream",
       "stream": "stdout",
       "text": [
        "Writing test.txt\n"
       ]
      }
     ],
     "prompt_number": 8
    },
    {
     "cell_type": "code",
     "collapsed": false,
     "input": [
      "with open('test.txt', 'r') as f:\n",
      "    print(f.read())"
     ],
     "language": "python",
     "metadata": {},
     "outputs": [
      {
       "output_type": "stream",
       "stream": "stdout",
       "text": [
        "My first notebook file!\n"
       ]
      }
     ],
     "prompt_number": 10
    },
    {
     "cell_type": "code",
     "collapsed": false,
     "input": [
      "%run?"
     ],
     "language": "python",
     "metadata": {},
     "outputs": [],
     "prompt_number": 11
    },
    {
     "cell_type": "markdown",
     "metadata": {},
     "source": [
      "# head 1\n",
      "## head 2\n",
      "### head3"
     ]
    },
    {
     "cell_type": "markdown",
     "metadata": {},
     "source": [
      "Some *italic* and **bold** text\n",
      "And a [hyperlink](http://dign.eu)\n",
      "Some code:\n",
      "```python\n",
      "print \"my first notebook\"\n",
      "```\n",
      "And an image:\n",
      "[some rocks](http://blog.digitalneurosurgeon.com/wp-content/uploads/2010/01/120406_NM_downloads1.png)"
     ]
    },
    {
     "cell_type": "code",
     "collapsed": false,
     "input": [
      "from IPython.display import YouTubeVideo\n",
      "YouTubeVideo('bHEG6b91dG8')"
     ],
     "language": "python",
     "metadata": {},
     "outputs": [
      {
       "html": [
        "\n",
        "        <iframe\n",
        "            width=\"400\"\n",
        "            height=300\"\n",
        "            src=\"https://www.youtube.com/embed/bHEG6b91dG8\"\n",
        "            frameborder=\"0\"\n",
        "            allowfullscreen\n",
        "        ></iframe>\n",
        "        "
       ],
       "metadata": {},
       "output_type": "pyout",
       "prompt_number": 14,
       "text": [
        "<IPython.lib.display.YouTubeVideo at 0x10269aa90>"
       ]
      }
     ],
     "prompt_number": 14
    },
    {
     "cell_type": "code",
     "collapsed": false,
     "input": [
      "from collections import OrderedDict\n",
      "from IPython.display import display, clear_output, YouTubeVideo\n",
      "from IPython.html.widgets import DropdownWidget"
     ],
     "language": "python",
     "metadata": {},
     "outputs": [],
     "prompt_number": 15
    },
    {
     "cell_type": "code",
     "collapsed": false,
     "input": [
      "dw = DropdownWidget(values = OrderedDict([('Video 1', '9sNqgqYkBnI'), ('Video 2', 'l-lWnUR3YwE')]))\n",
      "def on_value_change(name, val):\n",
      "    clear_output()\n",
      "    display(YouTubeVideo(val))\n",
      "    \n",
      "dw.on_trait_change(on_value_change, 'value')\n",
      "dw.value = dw.values['Video 1']\n",
      "display(dw)"
     ],
     "language": "python",
     "metadata": {},
     "outputs": [
      {
       "html": [
        "\n",
        "        <iframe\n",
        "            width=\"400\"\n",
        "            height=300\"\n",
        "            src=\"https://www.youtube.com/embed/9sNqgqYkBnI\"\n",
        "            frameborder=\"0\"\n",
        "            allowfullscreen\n",
        "        ></iframe>\n",
        "        "
       ],
       "metadata": {},
       "output_type": "display_data",
       "text": [
        "<IPython.lib.display.YouTubeVideo at 0x103729950>"
       ]
      }
     ],
     "prompt_number": 18
    },
    {
     "cell_type": "code",
     "collapsed": false,
     "input": [],
     "language": "python",
     "metadata": {},
     "outputs": []
    }
   ],
   "metadata": {}
  }
 ]
}