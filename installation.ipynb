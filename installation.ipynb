{
 "metadata": {
  "name": "",
  "signature": "sha256:44d49ff90c7cd2c83cbcf4ab16db0d428f4f14bea87d2b5462c968d43ef1a365"
 },
 "nbformat": 3,
 "nbformat_minor": 0,
 "worksheets": [
  {
   "cells": [
    {
     "cell_type": "markdown",
     "metadata": {},
     "source": [
      "# Installation"
     ]
    },
    {
     "cell_type": "markdown",
     "metadata": {},
     "source": [
      "Some text..."
     ]
    },
    {
     "cell_type": "markdown",
     "metadata": {},
     "source": [
      "![download screenshot](img/00_conda_download01_head.png)"
     ]
    },
    {
     "cell_type": "code",
     "collapsed": false,
     "input": [],
     "language": "python",
     "metadata": {},
     "outputs": []
    }
   ],
   "metadata": {}
  }
 ]
}